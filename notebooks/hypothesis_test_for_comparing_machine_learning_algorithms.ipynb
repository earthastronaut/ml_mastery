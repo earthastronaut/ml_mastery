{
 "cells": [
  {
   "cell_type": "markdown",
   "metadata": {},
   "source": [
    "# Hypothesis Test for Comparing Machine Learning Algorithms\n",
    "\n",
    "\n",
    "[blog link]( https://machinelearningmastery.com/hypothesis-test-for-comparing-machine-learning-algorithms/ )\n",
    "\n",
    "\n",
    "## Abstract\n",
    "\n",
    "Machine learning models are chosen based on their mean performance, often calculated using k-fold cross-validation.\n",
    "\n",
    "The solution is to use a statistical hypothesis test to evaluate whether the difference in the mean performance between any two algorithms is real or not.\n",
    "\n",
    "## Introduction\n",
    "\n",
    "## Methods\n",
    "\n",
    "## Results\n",
    "\n",
    "## Discussion\n",
    "\n",
    "## Conclusion\n",
    "\n"
   ]
  },
  {
   "cell_type": "markdown",
   "metadata": {},
   "source": [
    "<br>\n",
    "<br>\n",
    "\n",
    "# Imports"
   ]
  },
  {
   "cell_type": "code",
   "execution_count": 20,
   "metadata": {},
   "outputs": [],
   "source": [
    "import os\n",
    "\n",
    "import data_science_tools as tools\n",
    "from matplotlib.pylab import plt\n",
    "import numpy as np\n",
    "import pandas as pd\n",
    "\n",
    "from sklearn.datasets import make_classification\n",
    "from sklearn.linear_model import LogisticRegression\n",
    "from sklearn.model_selection import (\n",
    "    cross_val_score,\n",
    "    RepeatedStratifiedKFold,\n",
    ")\n",
    "from sklearn.discriminant_analysis import LinearDiscriminantAnalysis\n",
    "\n",
    "from mlxtend.evaluate import paired_ttest_5x2cv\n",
    "\n",
    "import src"
   ]
  },
  {
   "cell_type": "code",
   "execution_count": 2,
   "metadata": {},
   "outputs": [],
   "source": [
    "%matplotlib inline\n",
    "tools.config.initialize()"
   ]
  },
  {
   "cell_type": "markdown",
   "metadata": {},
   "source": [
    "<br>\n",
    "<br>\n",
    "\n",
    "# Processed Data"
   ]
  },
  {
   "cell_type": "code",
   "execution_count": 7,
   "metadata": {},
   "outputs": [
    {
     "name": "stdout",
     "output_type": "stream",
     "text": [
      "(1000, 10) (1000,)\n"
     ]
    }
   ],
   "source": [
    "X, y = make_classification(\n",
    "    n_samples=1000,\n",
    "    n_features=10,\n",
    "    n_informative=10,\n",
    "    n_redundant=0,\n",
    "    random_state=1,\n",
    ")\n",
    "print(X.shape, y.shape)"
   ]
  },
  {
   "cell_type": "markdown",
   "metadata": {},
   "source": [
    "<br>\n",
    "<br>\n",
    "\n",
    "# Model"
   ]
  },
  {
   "cell_type": "code",
   "execution_count": 22,
   "metadata": {},
   "outputs": [],
   "source": [
    "models = tools.DotDict({\n",
    "    'logistic_regression': LogisticRegression(),\n",
    "    'linear_discrimant_analysis': LinearDiscriminantAnalysis(),\n",
    "})"
   ]
  },
  {
   "cell_type": "markdown",
   "metadata": {},
   "source": [
    "<br>\n",
    "<br>\n",
    "\n",
    "# Training: Cross-Validation"
   ]
  },
  {
   "cell_type": "code",
   "execution_count": 15,
   "metadata": {},
   "outputs": [],
   "source": [
    "def train_model(X, y, model, **kws):\n",
    "    cross_validation = RepeatedStratifiedKFold(\n",
    "        n_splits=10,\n",
    "        n_repeats=3,\n",
    "        random_state=1,\n",
    "    )\n",
    "    scores = cross_val_score(\n",
    "        model, X, y,\n",
    "        scoring='accuracy',\n",
    "        cv=cross_validation,\n",
    "        n_jobs=-1,\n",
    "    )\n",
    "    print(f'{model.__class__.__name__}. Mean accuracy: {np.mean(scores):.3f} ({np.std(scores):.3f})')\n",
    "    return scores"
   ]
  },
  {
   "cell_type": "code",
   "execution_count": 33,
   "metadata": {},
   "outputs": [
    {
     "name": "stdout",
     "output_type": "stream",
     "text": [
      "training logistic_regression\n",
      "LogisticRegression. Mean accuracy: 0.892 (0.036)\n",
      "training linear_discrimant_analysis\n",
      "LinearDiscriminantAnalysis. Mean accuracy: 0.893 (0.033)\n"
     ]
    }
   ],
   "source": [
    "scores = tools.DotDict()\n",
    "for model_name, model in models.items():\n",
    "    print(f'training {model_name}')\n",
    "    scores[model_name] = train_model(X, y, model)\n",
    "    "
   ]
  },
  {
   "cell_type": "code",
   "execution_count": 28,
   "metadata": {},
   "outputs": [
    {
     "data": {
      "image/png": "[encoded data removed]",
      "text/plain": [
       "<Figure size 936x576 with 1 Axes>"
      ]
     },
     "metadata": {},
     "output_type": "display_data"
    }
   ],
   "source": [
    "plt.boxplot(scores.values(), labels=scores.keys(), showmeans=True)\n",
    "plt.show()"
   ]
  },
  {
   "cell_type": "code",
   "execution_count": 29,
   "metadata": {},
   "outputs": [],
   "source": [
    "t, p = paired_ttest_5x2cv(\n",
    "    estimator1=models.logistic_regression,\n",
    "    estimator2=models.linear_discrimant_analysis,\n",
    "    X=X,\n",
    "    y=y,\n",
    "    scoring='accuracy',\n",
    "    random_seed=1,\n",
    ")"
   ]
  },
  {
   "cell_type": "code",
   "execution_count": 30,
   "metadata": {},
   "outputs": [
    {
     "name": "stdout",
     "output_type": "stream",
     "text": [
      "P-value: 0.328, t-Statistic: 1.085\n",
      "Algorithms probably have the same performance\n"
     ]
    }
   ],
   "source": [
    "print('P-value: %.3f, t-Statistic: %.3f' % (p, t))\n",
    "if p <= 0.05:\n",
    "    print('Difference between mean performance is probably real')\n",
    "else:\n",
    "    print('Algorithms probably have the same performance')"
   ]
  }
 ],
 "metadata": {
  "kernelspec": {
   "display_name": "Python 3",
   "language": "python",
   "name": "python3"
  },
  "language_info": {
   "codemirror_mode": {
    "name": "ipython",
    "version": 3
   },
   "file_extension": ".py",
   "mimetype": "text/x-python",
   "name": "python",
   "nbconvert_exporter": "python",
   "pygments_lexer": "ipython3",
   "version": "3.7.6"
  }
 },
 "nbformat": 4,
 "nbformat_minor": 4
}
